{
 "metadata": {
  "language_info": {
   "codemirror_mode": {
    "name": "ipython",
    "version": 3
   },
   "file_extension": ".py",
   "mimetype": "text/x-python",
   "name": "python",
   "nbconvert_exporter": "python",
   "pygments_lexer": "ipython3",
   "version": 3
  },
  "orig_nbformat": 2,
  "kernelspec": {
   "name": "python_defaultSpec_1595320589137",
   "display_name": "Python 3.8.3 32-bit"
  }
 },
 "nbformat": 4,
 "nbformat_minor": 2,
 "cells": [
  {
   "cell_type": "code",
   "execution_count": 1,
   "metadata": {
    "tags": []
   },
   "outputs": [
    {
     "output_type": "stream",
     "name": "stdout",
     "text": "local\nglobal\n"
    }
   ],
   "source": [
    "var = 'global'\n",
    "\n",
    "def outer():\n",
    "    var = 'enclosing outer'\n",
    "\n",
    "    def inner():\n",
    "        var = 'enclosing inner'\n",
    "\n",
    "        def local():\n",
    "            var = 'local'\n",
    "            print(var)\n",
    "\n",
    "        local()\n",
    "    inner()\n",
    "outer()\n",
    "\n",
    "print(var)"
   ]
  },
  {
   "cell_type": "code",
   "execution_count": 4,
   "metadata": {
    "tags": []
   },
   "outputs": [
    {
     "output_type": "stream",
     "name": "stdout",
     "text": "local\nenclosing inner local\nenclosing outer local\nglobal\n"
    }
   ],
   "source": [
    "var = 'global'\n",
    "\n",
    "def outer():\n",
    "    var = 'enclosing outer local'\n",
    "    \n",
    "\n",
    "    def inner():\n",
    "        var = 'enclosing inner local'\n",
    "        \n",
    "\n",
    "        def local():\n",
    "            var = 'local'\n",
    "            print(var)\n",
    "\n",
    "        local()\n",
    "        print(var)\n",
    "    inner()\n",
    "    print(var)\n",
    "outer()\n",
    "\n",
    "print(var)"
   ]
  },
  {
   "cell_type": "code",
   "execution_count": 9,
   "metadata": {
    "tags": []
   },
   "outputs": [
    {
     "output_type": "stream",
     "name": "stdout",
     "text": "inner: inner variable\nouter: inner variable\n"
    }
   ],
   "source": [
    "def enclosing1_func1():\n",
    "    x ='outer_variable'\n",
    "    def enclosing_func2():\n",
    "        nonlocal x \n",
    "        x = 'inner variable'\n",
    "        print('inner:', x)\n",
    "\n",
    "    enclosing_func2()\n",
    "    print('outer:', x)\n",
    "\n",
    "enclosing1_func1()"
   ]
  },
  {
   "cell_type": "code",
   "execution_count": 15,
   "metadata": {
    "tags": []
   },
   "outputs": [
    {
     "output_type": "stream",
     "name": "stdout",
     "text": "After local assignment: test spam\nAfter nonlocal assignment: nonlocal spam\nAfter global assignment: nonlocal spam\nin global scope: global spam\n"
    }
   ],
   "source": [
    "def scope_test():\n",
    "    def do_local():\n",
    "        spam = 'local spam'\n",
    "\n",
    "    def do_nonlocal():\n",
    "        nonlocal spam\n",
    "        spam = 'nonlocal spam'\n",
    "\n",
    "    def do_global():\n",
    "        global spam\n",
    "        spam = 'global spam'\n",
    "\n",
    "    spam = \"test spam\"\n",
    "    do_local()\n",
    "    print('After local assignment:', spam)\n",
    "    do_nonlocal()\n",
    "    print('After nonlocal assignment:', spam)\n",
    "    do_global()\n",
    "    print('After global assignment:', spam)\n",
    "    \n",
    "scope_test()\n",
    "print('in global scope:', spam)"
   ]
  },
  {
   "cell_type": "code",
   "execution_count": 28,
   "metadata": {
    "tags": []
   },
   "outputs": [
    {
     "output_type": "stream",
     "name": "stdout",
     "text": "one\n"
    }
   ],
   "source": [
    "var = 1\n",
    "def assigner(a):\n",
    "    global var\n",
    "    var = a\n",
    "\n",
    "assigner('one')\n",
    "print(var)\n"
   ]
  }
 ]
}