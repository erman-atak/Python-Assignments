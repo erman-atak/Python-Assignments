{
 "metadata": {
  "language_info": {
   "codemirror_mode": {
    "name": "ipython",
    "version": 3
   },
   "file_extension": ".py",
   "mimetype": "text/x-python",
   "name": "python",
   "nbconvert_exporter": "python",
   "pygments_lexer": "ipython3",
   "version": 3
  },
  "orig_nbformat": 2,
  "kernelspec": {
   "name": "python_defaultSpec_1594989159457",
   "display_name": "Python 3.8.3 32-bit"
  }
 },
 "nbformat": 4,
 "nbformat_minor": 2,
 "cells": [
  {
   "cell_type": "code",
   "execution_count": 5,
   "metadata": {
    "tags": []
   },
   "outputs": [
    {
     "output_type": "stream",
     "name": "stdout",
     "text": "{'s', 'a', 'h', 'w'}\n{'s', 'a', 'h', 'w'}\n{'s', 'h', 'W', 'a', 'i', 'n', 'l', 't', 'w', 'g', 'e', 'o'}\n{'s', 'h', 'W', 'a', 'i', 'n', 'l', 't', 'w', 'g', 'e', 'o'}\n{'i', 'n', 't', 'g', 'o'}\n{'i', 'n', 't', 'g', 'o'}\n"
    }
   ],
   "source": [
    "usa = set('washington')\n",
    "nz = set('Wellington')\n",
    "\n",
    "print(usa -nz)\n",
    "print(usa.difference(nz))\n",
    "print(usa | nz)\n",
    "print(usa.union(nz))\n",
    "print(usa & nz)\n",
    "print(usa.intersection(nz))"
   ]
  },
  {
   "cell_type": "code",
   "execution_count": 17,
   "metadata": {
    "tags": []
   },
   "outputs": [
    {
     "output_type": "stream",
     "name": "stdout",
     "text": "We are the same\nset()\n"
    }
   ],
   "source": [
    "set1 = set(\"TWELVE PLUS ONE\")\n",
    "set2 = set(\"ELEVEN PLUS TWO\")\n",
    "\n",
    "if set1 == set2:\n",
    "    print(\"We are the same\")\n",
    "print(set1-set2)"
   ]
  },
  {
   "cell_type": "code",
   "execution_count": 19,
   "metadata": {
    "tags": []
   },
   "outputs": [
    {
     "output_type": "stream",
     "name": "stdout",
     "text": "You entered True\n"
    }
   ],
   "source": [
    "a = input(\"write yes or no: \").title().strip() == \"Yes\"\n",
    "\n",
    "print(\"You entered\", a)"
   ]
  },
  {
   "cell_type": "code",
   "execution_count": null,
   "metadata": {},
   "outputs": [],
   "source": []
  }
 ]
}