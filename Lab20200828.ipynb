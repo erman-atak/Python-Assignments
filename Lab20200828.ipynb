{
 "metadata": {
  "language_info": {
   "codemirror_mode": {
    "name": "ipython",
    "version": 3
   },
   "file_extension": ".py",
   "mimetype": "text/x-python",
   "name": "python",
   "nbconvert_exporter": "python",
   "pygments_lexer": "ipython3",
   "version": "3.8.3-final"
  },
  "orig_nbformat": 2,
  "kernelspec": {
   "name": "python_defaultSpec_1598634059866",
   "display_name": "Python 3.8.3 32-bit"
  }
 },
 "nbformat": 4,
 "nbformat_minor": 2,
 "cells": [
  {
   "cell_type": "code",
   "execution_count": 1,
   "metadata": {},
   "outputs": [],
   "source": [
    "import numpy as np"
   ]
  },
  {
   "cell_type": "code",
   "execution_count": 4,
   "metadata": {},
   "outputs": [
    {
     "output_type": "execute_result",
     "data": {
      "text/plain": "array([[3, 1],\n       [1, 2]])"
     },
     "metadata": {},
     "execution_count": 4
    }
   ],
   "source": [
    "a = np.array([[3, 1], [1,2]])\n",
    "b = np.array([9, 8])\n",
    "a"
   ]
  },
  {
   "cell_type": "code",
   "execution_count": 5,
   "metadata": {},
   "outputs": [
    {
     "output_type": "execute_result",
     "data": {
      "text/plain": "array([9, 8])"
     },
     "metadata": {},
     "execution_count": 5
    }
   ],
   "source": [
    "b"
   ]
  },
  {
   "cell_type": "code",
   "execution_count": 6,
   "metadata": {},
   "outputs": [
    {
     "output_type": "execute_result",
     "data": {
      "text/plain": "array([2., 3.])"
     },
     "metadata": {},
     "execution_count": 6
    }
   ],
   "source": [
    "np.linalg.solve(a, b)"
   ]
  },
  {
   "cell_type": "code",
   "execution_count": 13,
   "metadata": {},
   "outputs": [
    {
     "output_type": "execute_result",
     "data": {
      "text/plain": "array([0, 1, 2, 3, 4, 5, 6, 7, 8, 9])"
     },
     "metadata": {},
     "execution_count": 13
    }
   ],
   "source": [
    "x = np.arange(0,10,1)\n",
    "x"
   ]
  },
  {
   "cell_type": "code",
   "execution_count": 14,
   "metadata": {},
   "outputs": [
    {
     "output_type": "execute_result",
     "data": {
      "text/plain": "array([ 0.        ,  0.41666667,  0.83333333,  1.25      ,  1.66666667,\n        2.08333333,  2.5       ,  2.91666667,  3.33333333,  3.75      ,\n        4.16666667,  4.58333333,  5.        ,  5.41666667,  5.83333333,\n        6.25      ,  6.66666667,  7.08333333,  7.5       ,  7.91666667,\n        8.33333333,  8.75      ,  9.16666667,  9.58333333, 10.        ])"
     },
     "metadata": {},
     "execution_count": 14
    }
   ],
   "source": [
    "np.linspace(0, 10, 25)"
   ]
  },
  {
   "cell_type": "code",
   "execution_count": 19,
   "metadata": {},
   "outputs": [
    {
     "output_type": "execute_result",
     "data": {
      "text/plain": "array([1.00000000e+00, 1.51689680e+00, 2.30097589e+00, 3.49034296e+00,\n       5.29449005e+00, 8.03119500e+00, 1.21824940e+01, 1.84795861e+01,\n       2.80316249e+01, 4.25210820e+01, 6.45000931e+01, 9.78399845e+01,\n       1.48413159e+02, 2.25127446e+02, 3.41495101e+02, 5.18012825e+02,\n       7.85771994e+02, 1.19193502e+03, 1.80804241e+03, 2.74261375e+03,\n       4.16026201e+03, 6.31068811e+03, 9.57266257e+03, 1.45207412e+04,\n       2.20264658e+04])"
     },
     "metadata": {},
     "execution_count": 19
    }
   ],
   "source": [
    "np.logspace(0,10, 25, base=np.e)"
   ]
  },
  {
   "cell_type": "code",
   "execution_count": 20,
   "metadata": {},
   "outputs": [
    {
     "output_type": "execute_result",
     "data": {
      "text/plain": "array([1.00000000e+00, 1.58052192e+00, 2.49804953e+00, 3.94822204e+00,\n       6.24025147e+00, 9.86285422e+00, 1.55884573e+01, 2.46378984e+01,\n       3.89407384e+01, 6.15466905e+01, 9.72758934e+01, 1.53746682e+02,\n       2.43000000e+02, 3.84066826e+02, 6.07026037e+02, 9.59417955e+02,\n       1.51638111e+03, 2.39667358e+03, 3.78799512e+03, 5.98700931e+03,\n       9.46259943e+03, 1.49558458e+04, 2.36380421e+04, 3.73604436e+04,\n       5.90490000e+04])"
     },
     "metadata": {},
     "execution_count": 20
    }
   ],
   "source": [
    "np.logspace(0,10, 25, base=3)"
   ]
  },
  {
   "cell_type": "code",
   "execution_count": 47,
   "metadata": {},
   "outputs": [
    {
     "output_type": "execute_result",
     "data": {
      "text/plain": "array([[0.77132064, 0.02075195, 0.63364823, 0.74880388, 0.49850701],\n       [0.22479665, 0.19806286, 0.76053071, 0.16911084, 0.08833981],\n       [0.68535982, 0.95339335, 0.00394827, 0.51219226, 0.81262096],\n       [0.61252607, 0.72175532, 0.29187607, 0.91777412, 0.71457578],\n       [0.54254437, 0.14217005, 0.37334076, 0.67413362, 0.44183317]])"
     },
     "metadata": {},
     "execution_count": 47
    }
   ],
   "source": [
    "np.random.seed(10)\n",
    "np.random.rand(5,5)"
   ]
  },
  {
   "cell_type": "code",
   "execution_count": 48,
   "metadata": {},
   "outputs": [
    {
     "output_type": "execute_result",
     "data": {
      "text/plain": "array([[0.43401399, 0.61776698, 0.51313824, 0.65039718, 0.60103895],\n       [0.8052232 , 0.52164715, 0.90864888, 0.31923609, 0.09045935],\n       [0.30070006, 0.11398436, 0.82868133, 0.04689632, 0.62628715],\n       [0.54758616, 0.819287  , 0.19894754, 0.8568503 , 0.35165264],\n       [0.75464769, 0.29596171, 0.88393648, 0.32551164, 0.1650159 ]])"
     },
     "metadata": {},
     "execution_count": 48
    }
   ],
   "source": [
    "np.random.rand(5,5)"
   ]
  },
  {
   "cell_type": "code",
   "execution_count": 49,
   "metadata": {},
   "outputs": [
    {
     "output_type": "execute_result",
     "data": {
      "text/plain": "array([[-0.80459114, -0.21269764, -0.33914025],\n       [ 0.31216994,  0.56515267, -0.14742026],\n       [-0.02590534,  0.2890942 , -0.53987907]])"
     },
     "metadata": {},
     "execution_count": 49
    }
   ],
   "source": [
    "np.random.randn(3,3)"
   ]
  },
  {
   "cell_type": "code",
   "execution_count": 50,
   "metadata": {},
   "outputs": [
    {
     "output_type": "execute_result",
     "data": {
      "text/plain": "array([[1, 0, 0, 0],\n       [0, 2, 0, 0],\n       [0, 0, 3, 0],\n       [0, 0, 0, 4]])"
     },
     "metadata": {},
     "execution_count": 50
    }
   ],
   "source": [
    "np.diag([1,2,3,4])"
   ]
  },
  {
   "cell_type": "code",
   "execution_count": 54,
   "metadata": {},
   "outputs": [
    {
     "output_type": "execute_result",
     "data": {
      "text/plain": "array([[0, 0, 1, 0, 0, 0],\n       [0, 0, 0, 2, 0, 0],\n       [0, 0, 0, 0, 3, 0],\n       [0, 0, 0, 0, 0, 4],\n       [0, 0, 0, 0, 0, 0],\n       [0, 0, 0, 0, 0, 0]])"
     },
     "metadata": {},
     "execution_count": 54
    }
   ],
   "source": [
    "np.diag([1,2,3,4], k =2)"
   ]
  },
  {
   "cell_type": "code",
   "execution_count": 57,
   "metadata": {},
   "outputs": [
    {
     "output_type": "execute_result",
     "data": {
      "text/plain": "array([0, 1, 2, 3, 4])"
     },
     "metadata": {},
     "execution_count": 57
    }
   ],
   "source": [
    "b = np.array([i for i in range(5)])\n",
    "b"
   ]
  },
  {
   "cell_type": "code",
   "execution_count": 64,
   "metadata": {},
   "outputs": [
    {
     "output_type": "execute_result",
     "data": {
      "text/plain": "array([0, 1, 2, 3, 4])"
     },
     "metadata": {},
     "execution_count": 64
    }
   ],
   "source": [
    "c=np.arange(5)\n",
    "c"
   ]
  },
  {
   "cell_type": "code",
   "execution_count": 63,
   "metadata": {},
   "outputs": [
    {
     "output_type": "execute_result",
     "data": {
      "text/plain": "array([0, 1, 2, 3, 4])"
     },
     "metadata": {},
     "execution_count": 63
    }
   ],
   "source": [
    "d = np.array(range(5))\n",
    "d"
   ]
  },
  {
   "cell_type": "code",
   "execution_count": 66,
   "metadata": {},
   "outputs": [
    {
     "output_type": "execute_result",
     "data": {
      "text/plain": "array([0, 2])"
     },
     "metadata": {},
     "execution_count": 66
    }
   ],
   "source": [
    "row_mask = np.array([True, False, True, False, False])\n",
    "\n",
    "d[row_mask]"
   ]
  },
  {
   "cell_type": "code",
   "execution_count": 67,
   "metadata": {},
   "outputs": [
    {
     "output_type": "execute_result",
     "data": {
      "text/plain": "array([3, 4])"
     },
     "metadata": {},
     "execution_count": 67
    }
   ],
   "source": [
    "row_mask1 = np.array([0,0,0,1,1], dtype = bool)\n",
    "d[row_mask1]"
   ]
  },
  {
   "cell_type": "code",
   "execution_count": 68,
   "metadata": {},
   "outputs": [
    {
     "output_type": "execute_result",
     "data": {
      "text/plain": "array([0. , 0.5, 1. , 1.5, 2. , 2.5, 3. , 3.5, 4. , 4.5, 5. , 5.5, 6. ,\n       6.5, 7. , 7.5, 8. , 8.5, 9. , 9.5])"
     },
     "metadata": {},
     "execution_count": 68
    }
   ],
   "source": [
    "x = np.arange(0,10,0.5)\n",
    "x"
   ]
  },
  {
   "cell_type": "code",
   "execution_count": 71,
   "metadata": {},
   "outputs": [
    {
     "output_type": "execute_result",
     "data": {
      "text/plain": "array([False, False, False, False, False, False, False, False, False,\n       False, False,  True,  True,  True,  True, False, False, False,\n       False, False])"
     },
     "metadata": {},
     "execution_count": 71
    }
   ],
   "source": [
    "mask = (5 < x) & ( x < 7.5)\n",
    "mask"
   ]
  },
  {
   "cell_type": "code",
   "execution_count": 72,
   "metadata": {},
   "outputs": [
    {
     "output_type": "execute_result",
     "data": {
      "text/plain": "array([5.5, 6. , 6.5, 7. ])"
     },
     "metadata": {},
     "execution_count": 72
    }
   ],
   "source": [
    "x[mask]"
   ]
  },
  {
   "cell_type": "code",
   "execution_count": 74,
   "metadata": {},
   "outputs": [
    {
     "output_type": "execute_result",
     "data": {
      "text/plain": "(array([11, 12, 13, 14], dtype=int32),)"
     },
     "metadata": {},
     "execution_count": 74
    }
   ],
   "source": [
    "indeces = np.where(mask)\n",
    "indeces"
   ]
  },
  {
   "cell_type": "code",
   "execution_count": 75,
   "metadata": {},
   "outputs": [
    {
     "output_type": "execute_result",
     "data": {
      "text/plain": "array([5.5, 6. , 6.5, 7. ])"
     },
     "metadata": {},
     "execution_count": 75
    }
   ],
   "source": [
    "x[indeces]"
   ]
  },
  {
   "cell_type": "code",
   "execution_count": 78,
   "metadata": {},
   "outputs": [
    {
     "output_type": "execute_result",
     "data": {
      "text/plain": "array([[1, 2, 3, 4],\n       [5, 6, 7, 8],\n       [1, 2, 3, 4],\n       [5, 6, 7, 8]])"
     },
     "metadata": {},
     "execution_count": 78
    }
   ],
   "source": [
    "a= np.array([[1,2,3,4], [5,6,7,8], [1,2,3,4], [5,6,7,8]])\n",
    "a"
   ]
  },
  {
   "cell_type": "code",
   "execution_count": 79,
   "metadata": {},
   "outputs": [
    {
     "output_type": "execute_result",
     "data": {
      "text/plain": "array([1, 6, 3, 8])"
     },
     "metadata": {},
     "execution_count": 79
    }
   ],
   "source": [
    "np.diag(a)"
   ]
  },
  {
   "cell_type": "code",
   "execution_count": 80,
   "metadata": {},
   "outputs": [
    {
     "output_type": "execute_result",
     "data": {
      "text/plain": "array([2, 7, 4])"
     },
     "metadata": {},
     "execution_count": 80
    }
   ],
   "source": [
    "np.diag(a, k=1)"
   ]
  },
  {
   "cell_type": "code",
   "execution_count": 81,
   "metadata": {},
   "outputs": [
    {
     "output_type": "execute_result",
     "data": {
      "text/plain": "array([-3, -2, -1,  0,  1,  2])"
     },
     "metadata": {},
     "execution_count": 81
    }
   ],
   "source": [
    "v2 = np.arange(-3,3)\n",
    "v2"
   ]
  },
  {
   "cell_type": "code",
   "execution_count": 82,
   "metadata": {},
   "outputs": [
    {
     "output_type": "execute_result",
     "data": {
      "text/plain": "array([-2,  0,  2])"
     },
     "metadata": {},
     "execution_count": 82
    }
   ],
   "source": [
    "row_index = [1,3,5]\n",
    "v2[row_index]"
   ]
  },
  {
   "cell_type": "code",
   "execution_count": 84,
   "metadata": {},
   "outputs": [
    {
     "output_type": "execute_result",
     "data": {
      "text/plain": "array([-2,  0,  2])"
     },
     "metadata": {},
     "execution_count": 84
    }
   ],
   "source": [
    "v2.take(row_index)"
   ]
  },
  {
   "cell_type": "code",
   "execution_count": 85,
   "metadata": {},
   "outputs": [
    {
     "output_type": "execute_result",
     "data": {
      "text/plain": "array([ 6, -3,  8, -5])"
     },
     "metadata": {},
     "execution_count": 85
    }
   ],
   "source": [
    "which = [1, 0, 1, 0]\n",
    "options = [[-2, -3, -4, -5], [6, 7, 8, 9]]\n",
    "np.choose(which, options)"
   ]
  }
 ]
}