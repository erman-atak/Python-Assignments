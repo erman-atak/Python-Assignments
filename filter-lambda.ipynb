{
 "metadata": {
  "language_info": {
   "codemirror_mode": {
    "name": "ipython",
    "version": 3
   },
   "file_extension": ".py",
   "mimetype": "text/x-python",
   "name": "python",
   "nbconvert_exporter": "python",
   "pygments_lexer": "ipython3",
   "version": 3
  },
  "orig_nbformat": 2,
  "kernelspec": {
   "name": "python_defaultSpec_1595402203734",
   "display_name": "Python 3.8.3 32-bit"
  }
 },
 "nbformat": 4,
 "nbformat_minor": 2,
 "cells": [
  {
   "cell_type": "code",
   "execution_count": 2,
   "metadata": {
    "tags": []
   },
   "outputs": [
    {
     "output_type": "stream",
     "name": "stdout",
     "text": "<class 'filter'>\nEven number are: [0, 2, 4, 6, 8]\n"
    }
   ],
   "source": [
    "first_ten = [0,1,2,3,4,5,6,7,8,9]\n",
    "\n",
    "even = filter(lambda x: x%2==0, first_ten)\n",
    "print(type(even))\n",
    "print('Even number are:', list(even))"
   ]
  },
  {
   "cell_type": "code",
   "execution_count": 3,
   "metadata": {
    "tags": []
   },
   "outputs": [
    {
     "output_type": "stream",
     "name": "stdout",
     "text": "swim\nme\nkiwi\n"
    }
   ],
   "source": [
    "words = ['apple', 'swim', 'clock', 'me', 'kiwi', 'banana']\n",
    "word_filter = filter(lambda x: len(x)<5, words)\n",
    "for i in word_filter:\n",
    "    print(i)"
   ]
  },
  {
   "cell_type": "code",
   "execution_count": 4,
   "metadata": {
    "tags": []
   },
   "outputs": [
    {
     "output_type": "stream",
     "name": "stdout",
     "text": "swim\nme\nkiwi\n"
    }
   ],
   "source": [
    "words = ['apple', 'swim', 'clock', 'me', 'kiwi', 'banana']\n",
    "def five(x):\n",
    "    return len(x) < 5\n",
    "word_filter = filter(five, words)\n",
    "for i in word_filter:\n",
    "    print(i)"
   ]
  },
  {
   "cell_type": "code",
   "execution_count": 7,
   "metadata": {
    "tags": []
   },
   "outputs": [
    {
     "output_type": "stream",
     "name": "stdout",
     "text": "['a', 'e', 'i']\n"
    }
   ],
   "source": [
    "first_ten = ['a','b','c','d','e','f','g','h','i','j']\n",
    "vowel_list = ['a','e','i','o','u']\n",
    "vowels = filter(lambda x: True if x in vowel_list else False, first_ten)\n",
    "print(list(vowels))"
   ]
  }
 ]
}