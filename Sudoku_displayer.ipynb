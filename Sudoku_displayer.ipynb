{
 "metadata": {
  "language_info": {
   "codemirror_mode": {
    "name": "ipython",
    "version": 3
   },
   "file_extension": ".py",
   "mimetype": "text/x-python",
   "name": "python",
   "nbconvert_exporter": "python",
   "pygments_lexer": "ipython3",
   "version": 3
  },
  "orig_nbformat": 2,
  "kernelspec": {
   "name": "python_defaultSpec_1596975163503",
   "display_name": "Python 3.8.3 32-bit"
  }
 },
 "nbformat": 4,
 "nbformat_minor": 2,
 "cells": [
  {
   "cell_type": "code",
   "execution_count": 3,
   "metadata": {
    "tags": []
   },
   "outputs": [
    {
     "output_type": "stream",
     "name": "stdout",
     "text": "- - - - - - - - - - - - - - -\n0  0  0  |0  6  4  |0  0  0  \n7  0  0  |0  0  0  |3  9  0  \n8  0  0  |0  0  0  |0  0  0  \n- - - - - - - - - - - - - - -\n0  0  0  |5  0  2  |0  6  0  \n0  8  0  |4  0  0  |0  0  0  \n3  5  0  |6  0  0  |0  7  0  \n- - - - - - - - - - - - - - -\n0  0  2  |0  0  0  |1  0  3  \n0  0  1  |0  5  9  |0  0  0  \n0  0  0  |0  0  0  |7  0  0  \n"
    }
   ],
   "source": [
    "sudoku = [\n",
    "    [0, 0, 0, 0, 6, 4, 0, 0, 0],\n",
    "    [7, 0, 0, 0, 0, 0, 3, 9, 0],\n",
    "    [8, 0, 0, 0, 0, 0, 0, 0, 0],\n",
    "    [0, 0, 0, 5, 0, 2, 0, 6, 0],\n",
    "    [0, 8, 0, 4, 0, 0, 0, 0, 0],\n",
    "    [3, 5, 0, 6, 0, 0, 0, 7, 0],\n",
    "    [0, 0, 2, 0, 0, 0, 1, 0, 3],\n",
    "    [0, 0, 1, 0, 5, 9, 0, 0, 0],\n",
    "    [0, 0, 0, 0, 0, 0, 7, 0, 0]\n",
    "]\n",
    "count = 0\n",
    "print('- - - - - - - - - - - - - - -')\n",
    "for i in sudoku:\n",
    "    for j in range(9):\n",
    "        print(i[j], ' ', end='')\n",
    "        if j == 8:\n",
    "            print()\n",
    "            count +=1\n",
    "            if count % 3 == 0 and count != 9:\n",
    "                print('- - - - - - - - - - - - - - -')\n",
    "        if (j+1)%3 == 0 and j !=8:\n",
    "            print('|', end='')\n",
    "                \n",
    "       "
   ]
  }
 ]
}