{
 "metadata": {
  "language_info": {
   "codemirror_mode": {
    "name": "ipython",
    "version": 3
   },
   "file_extension": ".py",
   "mimetype": "text/x-python",
   "name": "python",
   "nbconvert_exporter": "python",
   "pygments_lexer": "ipython3",
   "version": 3
  },
  "orig_nbformat": 2,
  "kernelspec": {
   "name": "python_defaultSpec_1595401626653",
   "display_name": "Python 3.8.3 32-bit"
  }
 },
 "nbformat": 4,
 "nbformat_minor": 2,
 "cells": [
  {
   "cell_type": "code",
   "execution_count": null,
   "metadata": {},
   "outputs": [],
   "source": [
    "#Third Lambda usage\n",
    "iterable = [1,2,3,4,5]\n",
    "map(lambda x: x**2, iterable)\n",
    "result = map(lambda x: x**2, iterable)\n",
    "print(type(result))\n",
    "print(list(result))\n",
    "for i in (list(map(lambda x: x**2, iterable))):\n",
    "    print(i)"
   ]
  },
  {
   "cell_type": "code",
   "execution_count": 7,
   "metadata": {
    "tags": []
   },
   "outputs": [
    {
     "output_type": "stream",
     "name": "stdout",
     "text": "['i love you', 'you ate much', 'he works hard']\n['i love you', 'you ate much', 'he works hard']\n"
    }
   ],
   "source": [
    "words1 = ['you', 'much', 'hard']\n",
    "words2 = ['i', 'you', 'he']\n",
    "words3 = ['love', 'ate', 'works']\n",
    "\n",
    "sentence = map(lambda x, y, z: y+' '+z+' '+x, words1, words2, words3)\n",
    "print(list(sentence))\n",
    "\n",
    "sentence = map(lambda x, y, z: x+' '+y+' '+z, words2, words3, words1)\n",
    "print(list(sentence))\n",
    "\n",
    "for i in sentence:\n",
    "    print(i)"
   ]
  }
 ]
}