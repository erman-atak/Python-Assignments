{
 "metadata": {
  "language_info": {
   "codemirror_mode": {
    "name": "ipython",
    "version": 3
   },
   "file_extension": ".py",
   "mimetype": "text/x-python",
   "name": "python",
   "nbconvert_exporter": "python",
   "pygments_lexer": "ipython3",
   "version": "3.8.3-final"
  },
  "orig_nbformat": 2,
  "kernelspec": {
   "name": "python_defaultSpec_1598625488291",
   "display_name": "Python 3.8.3 32-bit"
  }
 },
 "nbformat": 4,
 "nbformat_minor": 2,
 "cells": [
  {
   "cell_type": "code",
   "execution_count": 1,
   "metadata": {},
   "outputs": [],
   "source": [
    "import numpy as np"
   ]
  },
  {
   "cell_type": "code",
   "execution_count": 3,
   "metadata": {},
   "outputs": [
    {
     "output_type": "execute_result",
     "data": {
      "text/plain": "array([11, 70, 63, ..., 44, 30, 77])"
     },
     "metadata": {},
     "execution_count": 3
    }
   ],
   "source": [
    "np.random.seed(101)\n",
    "population=np.random.randint(0,80,100000)\n",
    "population"
   ]
  },
  {
   "cell_type": "code",
   "execution_count": 5,
   "metadata": {},
   "outputs": [
    {
     "output_type": "execute_result",
     "data": {
      "text/plain": "array([18, 26, 60, 28,  7, 16, 13, 38, 60, 59, 60, 63, 47, 27, 67, 46, 64,\n       22, 70,  9, 30, 71, 22,  7,  1,  1, 11, 36, 58, 29, 53, 43, 71, 63,\n       65, 78, 19, 16, 38,  1, 30, 64, 21, 22, 57, 42, 33, 67, 48, 51, 35,\n       54, 34,  9, 75, 44, 36, 63, 70, 29, 14, 45, 26, 28,  4, 70, 69, 63,\n        0, 46, 29, 60, 79, 67, 16, 58,  0,  2, 76, 46,  8, 10, 11, 74, 73,\n        3, 17, 27, 20, 50, 68, 73, 67, 65,  9, 19, 55, 36, 22, 45])"
     },
     "metadata": {},
     "execution_count": 5
    }
   ],
   "source": [
    "sample = np.random.choice(population, 100)\n",
    "sample"
   ]
  },
  {
   "cell_type": "code",
   "execution_count": 10,
   "metadata": {},
   "outputs": [
    {
     "output_type": "execute_result",
     "data": {
      "text/plain": "39.47"
     },
     "metadata": {},
     "execution_count": 10
    }
   ],
   "source": [
    "sample.mean()"
   ]
  },
  {
   "cell_type": "code",
   "execution_count": 9,
   "metadata": {},
   "outputs": [
    {
     "output_type": "execute_result",
     "data": {
      "text/plain": "39.42698"
     },
     "metadata": {},
     "execution_count": 9
    }
   ],
   "source": [
    "population.mean()"
   ]
  },
  {
   "cell_type": "code",
   "execution_count": 14,
   "metadata": {},
   "outputs": [
    {
     "output_type": "execute_result",
     "data": {
      "text/plain": "[42.54, 41.4, 36.39, 42.9, 43.59, 38.12, 39.99, 36.32, 38.23, 35.23]"
     },
     "metadata": {},
     "execution_count": 14
    }
   ],
   "source": [
    "np.random.seed(101)\n",
    "sample_means=[]\n",
    "for i in range(10):\n",
    "    sample = np.random.choice(population, 100)\n",
    "    sample_means.append(sample.mean())\n",
    "sample_means"
   ]
  },
  {
   "cell_type": "code",
   "execution_count": 16,
   "metadata": {},
   "outputs": [
    {
     "output_type": "execute_result",
     "data": {
      "text/plain": "39.471000000000004"
     },
     "metadata": {},
     "execution_count": 16
    }
   ],
   "source": [
    "np.mean(sample_means)"
   ]
  },
  {
   "cell_type": "code",
   "execution_count": 18,
   "metadata": {},
   "outputs": [
    {
     "output_type": "execute_result",
     "data": {
      "text/plain": "39.42698"
     },
     "metadata": {},
     "execution_count": 18
    }
   ],
   "source": [
    "population.mean()"
   ]
  },
  {
   "cell_type": "code",
   "execution_count": null,
   "metadata": {},
   "outputs": [],
   "source": []
  }
 ]
}