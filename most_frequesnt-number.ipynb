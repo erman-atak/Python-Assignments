{
 "metadata": {
  "language_info": {
   "codemirror_mode": {
    "name": "ipython",
    "version": 3
   },
   "file_extension": ".py",
   "mimetype": "text/x-python",
   "name": "python",
   "nbconvert_exporter": "python",
   "pygments_lexer": "ipython3",
   "version": 3
  },
  "orig_nbformat": 2,
  "kernelspec": {
   "name": "python_defaultSpec_1594993919912",
   "display_name": "Python 3.8.3 32-bit"
  }
 },
 "nbformat": 4,
 "nbformat_minor": 2,
 "cells": [
  {
   "cell_type": "code",
   "execution_count": 2,
   "metadata": {
    "tags": []
   },
   "outputs": [
    {
     "output_type": "stream",
     "name": "stdout",
     "text": "The most frequent number is 3, and it was 7 times repeated\n"
    }
   ],
   "source": [
    "numbers = [1,2,3,4,3,2,5,3,7,6,2,3,8,5,4,9,2,3,4,3,2,5,7,6,5,4,5,6,3,4,5,6]\n",
    "item = max(numbers, key=numbers.count)\n",
    "repetition = numbers.count(item)\n",
    "\n",
    "print(f\"The most frequent number is {item}, and it was {repetition} times repeated.\")"
   ]
  },
  {
   "cell_type": "code",
   "execution_count": 6,
   "metadata": {
    "tags": []
   },
   "outputs": [
    {
     "output_type": "stream",
     "name": "stdout",
     "text": "['addis ababa', 'wellington', 'istanbul', 'rome']\n"
    }
   ],
   "source": [
    " city = [\"addis ababa\", \"istanbul\", \"wellington\", \"rome\"]\n",
    " city_len_sort = sorted(city, key=len, reverse=True)\n",
    " print(city_len_sort)"
   ]
  },
  {
   "cell_type": "code",
   "execution_count": null,
   "metadata": {},
   "outputs": [],
   "source": []
  }
 ]
}