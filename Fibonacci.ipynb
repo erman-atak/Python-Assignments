{
 "metadata": {
  "language_info": {
   "codemirror_mode": {
    "name": "ipython",
    "version": 3
   },
   "file_extension": ".py",
   "mimetype": "text/x-python",
   "name": "python",
   "nbconvert_exporter": "python",
   "pygments_lexer": "ipython3",
   "version": 3
  },
  "orig_nbformat": 2,
  "kernelspec": {
   "name": "python_defaultSpec_1595154925682",
   "display_name": "Python 3.8.3 32-bit"
  }
 },
 "nbformat": 4,
 "nbformat_minor": 2,
 "cells": [
  {
   "cell_type": "code",
   "execution_count": 2,
   "metadata": {
    "tags": []
   },
   "outputs": [
    {
     "output_type": "stream",
     "name": "stdout",
     "text": "[1, 1, 2, 3, 5, 8, 13, 21, 34, 55]\n"
    }
   ],
   "source": [
    "fibo = []\n",
    "\n",
    "for i in range(-2, 8):\n",
    "    if i < 0:\n",
    "        fibo.append(1)\n",
    "    else:\n",
    "        fibo.append(fibo[i]+fibo[i+1])  \n",
    "print(fibo)"
   ]
  }
 ]
}