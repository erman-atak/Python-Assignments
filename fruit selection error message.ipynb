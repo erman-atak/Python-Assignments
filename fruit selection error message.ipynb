{
 "metadata": {
  "language_info": {
   "codemirror_mode": {
    "name": "ipython",
    "version": 3
   },
   "file_extension": ".py",
   "mimetype": "text/x-python",
   "name": "python",
   "nbconvert_exporter": "python",
   "pygments_lexer": "ipython3",
   "version": 3
  },
  "orig_nbformat": 2,
  "kernelspec": {
   "name": "python_defaultSpec_1596567020255",
   "display_name": "Python 3.8.3 32-bit"
  }
 },
 "nbformat": 4,
 "nbformat_minor": 2,
 "cells": [
  {
   "cell_type": "code",
   "execution_count": 2,
   "metadata": {
    "tags": []
   },
   "outputs": [
    {
     "output_type": "stream",
     "name": "stdout",
     "text": "There is no such an index. Try again!\nYou should entern integer. Try again!\nYou should entern integer. Try again!\nYou should entern integer. Try again!\nMy favorite fruit is apple\n"
    }
   ],
   "source": [
    "fruits=['banana','mango','pear','apple','kiwi','grape']\n",
    "\n",
    "while True:\n",
    "    try: \n",
    "        index = int(input('pick an index number to chose your favorite fruit: '))\n",
    "        print('My favorite fruit is', fruits[index])\n",
    "        break``\n",
    "    except IndexError:\n",
    "        print('There is no such an index. Try again!')\n",
    "    except ValueError:\n",
    "        print('You should entern integer. Try again!')\n"
   ]
  },
  {
   "cell_type": "code",
   "execution_count": 9,
   "metadata": {
    "tags": []
   },
   "outputs": [
    {
     "output_type": "stream",
     "name": "stdout",
     "text": "You should entern integer. Try again!\nYou have 2 right left!\nOur fruits are always fresh!\nYou should entern integer. Try again!\nYou have 1 right left!\nOur fruits are always fresh!\nYou should entern integer. Try again!\nYou have 0 right left!\nOur fruits are always fresh!\n"
    }
   ],
   "source": [
    "fruits=['banana','mango','pear','apple','kiwi','grape']\n",
    "counter=3\n",
    "while counter > 0:\n",
    "    try: \n",
    "        index = int(input('pick an index number to chose your favorite fruit:  \\n You have three rights'))\n",
    "        print('My favorite fruit is', fruits[index])   \n",
    "    except IndexError:\n",
    "        print('There is no such an index. Try again!')\n",
    "        counter -= 1\n",
    "        print(f'You have {counter} right left!')\n",
    "    except ValueError:\n",
    "        print('You should entern integer. Try again!')\n",
    "        counter -= 1\n",
    "        print(f'You have {counter} right left!')\n",
    "    else: \n",
    "        print('Congrats! You have entered a valid input.')\n",
    "        break\n",
    "    finally:\n",
    "        print('Our fruits are always fresh!')\n",
    "\n"
   ]
  }
 ]
}