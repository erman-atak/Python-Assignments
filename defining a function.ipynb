{
 "metadata": {
  "language_info": {
   "codemirror_mode": {
    "name": "ipython",
    "version": 3
   },
   "file_extension": ".py",
   "mimetype": "text/x-python",
   "name": "python",
   "nbconvert_exporter": "python",
   "pygments_lexer": "ipython3",
   "version": 3
  },
  "orig_nbformat": 2,
  "kernelspec": {
   "name": "python_defaultSpec_1595119780615",
   "display_name": "Python 3.8.3 32-bit"
  }
 },
 "nbformat": 4,
 "nbformat_minor": 2,
 "cells": [
  {
   "cell_type": "code",
   "execution_count": 1,
   "metadata": {},
   "outputs": [],
   "source": [
    "def kare(a,b):\n",
    "    print(a ** 2 + b ** 2)"
   ]
  },
  {
   "cell_type": "code",
   "execution_count": 7,
   "metadata": {
    "tags": []
   },
   "outputs": [
    {
     "output_type": "stream",
     "name": "stdout",
     "text": "34\n34\n"
    },
    {
     "output_type": "execute_result",
     "data": {
      "text/plain": "function"
     },
     "metadata": {},
     "execution_count": 7
    }
   ],
   "source": [
    "kare(3, 5)\n",
    "\n",
    "type(kare(3,5))\n",
    "type(kare)"
   ]
  },
  {
   "cell_type": "code",
   "execution_count": 8,
   "metadata": {
    "tags": []
   },
   "outputs": [
    {
     "output_type": "stream",
     "name": "stdout",
     "text": "Don't hesitate to invent yourself\n"
    }
   ],
   "source": [
    "def motto():\n",
    "    print(\"Don't hesitate to invent yourself\")\n",
    "\n",
    "motto()"
   ]
  },
  {
   "cell_type": "code",
   "execution_count": 9,
   "metadata": {
    "tags": []
   },
   "outputs": [
    {
     "output_type": "stream",
     "name": "stdout",
     "text": "7\n"
    }
   ],
   "source": [
    "def add(a, b):\n",
    "    print(a + b)\n",
    "\n",
    "add(2,5)"
   ]
  },
  {
   "cell_type": "code",
   "execution_count": 14,
   "metadata": {
    "tags": []
   },
   "outputs": [
    {
     "output_type": "stream",
     "name": "stdout",
     "text": "2.5\n"
    }
   ],
   "source": [
    "def calculator(a, b, opr):\n",
    "    if opr == '+':\n",
    "        print(a+b)\n",
    "    elif opr =='-':\n",
    "        print(a-b)\n",
    "    elif opr =='*':\n",
    "        print(a*b)\n",
    "    elif opr =='/':\n",
    "        print(a/b)\n",
    "    else: print('enter a valid argument')\n",
    "\n",
    "calculator(10, 4, '/')"
   ]
  },
  {
   "cell_type": "code",
   "execution_count": 18,
   "metadata": {
    "tags": []
   },
   "outputs": [
    {
     "output_type": "stream",
     "name": "stdout",
     "text": "4\n36\n"
    }
   ],
   "source": [
    "def karisik(a, b):\n",
    "    x = a + b\n",
    "    y = a - b\n",
    "    return y\n",
    "\n",
    "print(karisik(8, 4))\n",
    "print(karisik(45, 9))"
   ]
  },
  {
   "cell_type": "code",
   "execution_count": 19,
   "metadata": {},
   "outputs": [
    {
     "output_type": "execute_result",
     "data": {
      "text/plain": "2.5"
     },
     "metadata": {},
     "execution_count": 19
    }
   ],
   "source": [
    "def calculator(a, b, opr):\n",
    "    if opr == '+':\n",
    "        return(a+b)\n",
    "    elif opr =='-':\n",
    "        return(a-b)\n",
    "    elif opr =='*':\n",
    "        return(a*b)\n",
    "    elif opr =='/':\n",
    "        return(a/b)\n",
    "    else: return('enter a valid argument')\n",
    "\n",
    "calculator(10, 4, '/')"
   ]
  },
  {
   "cell_type": "code",
   "execution_count": null,
   "metadata": {},
   "outputs": [],
   "source": []
  }
 ]
}