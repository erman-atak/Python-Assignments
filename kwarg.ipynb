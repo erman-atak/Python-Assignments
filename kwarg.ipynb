{
 "metadata": {
  "language_info": {
   "codemirror_mode": {
    "name": "ipython",
    "version": 3
   },
   "file_extension": ".py",
   "mimetype": "text/x-python",
   "name": "python",
   "nbconvert_exporter": "python",
   "pygments_lexer": "ipython3",
   "version": 3
  },
  "orig_nbformat": 2,
  "kernelspec": {
   "name": "python_defaultSpec_1595310275084",
   "display_name": "Python 3.8.3 32-bit"
  }
 },
 "nbformat": 4,
 "nbformat_minor": 2,
 "cells": [
  {
   "cell_type": "code",
   "execution_count": 1,
   "metadata": {
    "tags": []
   },
   "outputs": [
    {
     "output_type": "stream",
     "name": "stdout",
     "text": "lada is car\nbmx is bike\nher is ser\n"
    }
   ],
   "source": [
    "def animals(**anim):\n",
    "    for key, value in anim.items():\n",
    "        print(value, \"is\", key)\n",
    "\n",
    "animals(car = 'lada', bike = 'bmx', ser = 'her' )"
   ]
  },
  {
   "cell_type": "code",
   "execution_count": 5,
   "metadata": {
    "tags": []
   },
   "outputs": [
    {
     "output_type": "stream",
     "name": "stdout",
     "text": "['ali', 'veli']\n[23, 23]\n"
    }
   ],
   "source": [
    "def orginizer(**id):\n",
    "    names = []\n",
    "    age = []\n",
    "    for i in id.keys():\n",
    "        names.append(i)\n",
    "    for j in id.values():\n",
    "        age.append(j)\n",
    "    print(names)\n",
    "    print(age)\n",
    "\n",
    "orginizer(ali=23, veli=23)\n"
   ]
  },
  {
   "cell_type": "code",
   "execution_count": 6,
   "metadata": {
    "tags": []
   },
   "outputs": [
    {
     "output_type": "stream",
     "name": "stdout",
     "text": "['ali', 'veli']\n[23, 23]\n"
    }
   ],
   "source": [
    "def orginizer(**id):\n",
    "    name = []\n",
    "    age = []\n",
    "    for key, value in id.items():\n",
    "        name.append(key)\n",
    "        age.append(value)\n",
    "    print(name)\n",
    "    print(age)\n",
    "\n",
    "orginizer(ali=23, veli=23)"
   ]
  },
  {
   "cell_type": "code",
   "execution_count": 5,
   "metadata": {
    "tags": []
   },
   "outputs": [
    {
     "output_type": "stream",
     "name": "stdout",
     "text": "Fred belongs to Generation X\nMary belongs to Generation Y\n"
    }
   ],
   "source": [
    "def gene(x, y):\n",
    "    print(x, \"belongs to Generation X\")\n",
    "    print(y, \"belongs to Generation Y\")\n",
    "\n",
    "dict_gene = {'y' : 'Mary', 'x' : 'Fred'}\n",
    "gene(**dict_gene)"
   ]
  },
  {
   "cell_type": "code",
   "execution_count": 10,
   "metadata": {
    "tags": []
   },
   "outputs": [
    {
     "output_type": "stream",
     "name": "stdout",
     "text": "26.333333333333332\n"
    }
   ],
   "source": [
    "def meaner(tom, mike, ben):\n",
    "    avg = (tom + mike + ben) / 3\n",
    "    return(avg)\n",
    "\n",
    "friend = {'tom': 44, 'mike':23, 'ben':12}\n",
    "print(meaner(**friend))"
   ]
  },
  {
   "cell_type": "markdown",
   "metadata": {},
   "source": []
  },
  {
   "cell_type": "code",
   "execution_count": null,
   "metadata": {},
   "outputs": [],
   "source": [
    "def test(x,y,z):\n",
    "    print(x,y,z)\n",
    "testDict = {'x':1, 'y':2, 'z':3}\n",
    "testList = [10,20,30]\n",
    "\n",
    "test(*testDict)\n",
    "test(*testList)\n",
    "print()\n",
    "test(**testDict)\n",
    "# test(**testList)  error"
   ]
  }
 ]
}