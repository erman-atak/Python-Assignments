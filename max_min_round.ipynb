{
 "metadata": {
  "language_info": {
   "codemirror_mode": {
    "name": "ipython",
    "version": 3
   },
   "file_extension": ".py",
   "mimetype": "text/x-python",
   "name": "python",
   "nbconvert_exporter": "python",
   "pygments_lexer": "ipython3",
   "version": 3
  },
  "orig_nbformat": 2,
  "kernelspec": {
   "name": "python_defaultSpec_1595119761816",
   "display_name": "Python 3.8.3 32-bit"
  }
 },
 "nbformat": 4,
 "nbformat_minor": 2,
 "cells": [
  {
   "cell_type": "code",
   "execution_count": 4,
   "metadata": {
    "tags": []
   },
   "outputs": [
    {
     "output_type": "stream",
     "name": "stdout",
     "text": "46\n-222\n-21\n"
    }
   ],
   "source": [
    "number = [-222, 0, 23, 45, 44, 46, 23]\n",
    "num_max = max(number)\n",
    "num_min = min(number)\n",
    "num_sum = sum(number, 20)\n",
    "print(num_max)\n",
    "print(num_min)\n",
    "print(num_sum)"
   ]
  },
  {
   "cell_type": "code",
   "execution_count": 8,
   "metadata": {
    "tags": []
   },
   "outputs": [
    {
     "output_type": "stream",
     "name": "stdout",
     "text": "12\n23\n3.67\n3.67\n"
    }
   ],
   "source": [
    "print(round(12))\n",
    "print(round(23.43))\n",
    "print(round(3.665, 2))\n",
    "print(round(3.675, 2))"
   ]
  }
 ]
}