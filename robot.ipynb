{
 "metadata": {
  "language_info": {
   "codemirror_mode": {
    "name": "ipython",
    "version": 3
   },
   "file_extension": ".py",
   "mimetype": "text/x-python",
   "name": "python",
   "nbconvert_exporter": "python",
   "pygments_lexer": "ipython3",
   "version": 3
  },
  "orig_nbformat": 2,
  "kernelspec": {
   "name": "python_defaultSpec_1595772618042",
   "display_name": "Python 3.8.3 32-bit"
  }
 },
 "nbformat": 4,
 "nbformat_minor": 2,
 "cells": [
  {
   "cell_type": "code",
   "execution_count": 6,
   "metadata": {
    "tags": []
   },
   "outputs": [
    {
     "output_type": "stream",
     "name": "stdout",
     "text": "[0, -10]\n"
    }
   ],
   "source": [
    "commands = ['right 20', 'right 30', 'left 50', 'up 10', 'down 20']\n",
    "x = y = 0\n",
    "\n",
    "for i in range(len(commands)):\n",
    "    if commands[i].startswith('r'): x = x + int(commands[i].split()[1])\n",
    "    elif commands[i].startswith('l'): x = x - int(commands[i].split()[1])\n",
    "    elif commands[i].startswith('u'): y = y + int(commands[i].split()[1])\n",
    "    elif commands[i].startswith('d'): y = y - int(commands[i].split()[1])\n",
    "\n",
    "#print('x= ', x, '\\n' 'y= ', y)\n",
    "print([x, y])"
   ]
  }
 ]
}