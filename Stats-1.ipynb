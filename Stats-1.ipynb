{
 "metadata": {
  "language_info": {
   "codemirror_mode": {
    "name": "ipython",
    "version": 3
   },
   "file_extension": ".py",
   "mimetype": "text/x-python",
   "name": "python",
   "nbconvert_exporter": "python",
   "pygments_lexer": "ipython3",
   "version": "3.8.3-final"
  },
  "orig_nbformat": 2,
  "kernelspec": {
   "name": "python_defaultSpec_1598625488287",
   "display_name": "Python 3.8.3 32-bit"
  }
 },
 "nbformat": 4,
 "nbformat_minor": 2,
 "cells": [
  {
   "cell_type": "code",
   "execution_count": 7,
   "metadata": {},
   "outputs": [],
   "source": [
    "import numpy as np\n",
    "from scipy import stats\n",
    "from scipy.stats import iqr\n",
    "import matplotlib.pyplot as plt"
   ]
  },
  {
   "cell_type": "code",
   "execution_count": 17,
   "metadata": {
    "tags": []
   },
   "outputs": [
    {
     "output_type": "stream",
     "name": "stdout",
     "text": "mean =14.4\nmedian =15.0\nmode =ModeResult(mode=array([15]), count=array([8]))\n"
    }
   ],
   "source": [
    "list1 = [16, 15, 12, 15, 10, 16, 16, 15, 15, 15, 12, 18, 12, 14, 10, 18, 15, 14, 15, 15]\n",
    "my_list = np.array(list1)\n",
    "\n",
    "mean = my_list.mean()\n",
    "print(f'mean ={mean}')\n",
    "\n",
    "median = np.median(my_list)\n",
    "print(f'median ={median}')\n",
    "\n",
    "mode = stats.mode(my_list)\n",
    "print(f'mode ={mode}')\n"
   ]
  },
  {
   "cell_type": "code",
   "execution_count": 19,
   "metadata": {
    "tags": []
   },
   "outputs": [
    {
     "output_type": "stream",
     "name": "stdout",
     "text": "7.625 3.984375 1.996089927833914\n"
    }
   ],
   "source": [
    "list2 = [10, 9, 7, 9, 8, 9, 5, 4]\n",
    "my_list2 = np.array(list2)\n",
    "mean2 = np.mean(my_list2)\n",
    "variance = np.var(my_list2)\n",
    "standard_value = np.std(my_list2)\n",
    "print(mean2, variance, standard_value)"
   ]
  },
  {
   "cell_type": "code",
   "execution_count": null,
   "metadata": {},
   "outputs": [],
   "source": [
    "salary = [120, 80, 85, 85, 80, 83, 100, 105, 105, 85, 75, 125, 120, 105, 85, 80, 95, 90, 95, 85, 80, 85, 120, 100, 105, 90]\n",
    "salary_list = np.array(salary)\n",
    "\n",
    "mean3 = np.mean(salary_list)\n",
    "median3 = np.median(salary_list)\n",
    "mode3 = stats.mode(salary_list)\n",
    "range3 = slist.max()-salary_list.min()\n",
    "iqr3 = iqr(salary_list)\n",
    "var3 = np.var(salary_list)\n",
    "std3 = np.std(salary_list)\n"
   ]
  }
 ]
}