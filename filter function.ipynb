{
 "metadata": {
  "language_info": {
   "codemirror_mode": {
    "name": "ipython",
    "version": 3
   },
   "file_extension": ".py",
   "mimetype": "text/x-python",
   "name": "python",
   "nbconvert_exporter": "python",
   "pygments_lexer": "ipython3",
   "version": 3
  },
  "orig_nbformat": 2,
  "kernelspec": {
   "name": "python_defaultSpec_1595156316639",
   "display_name": "Python 3.8.3 32-bit"
  }
 },
 "nbformat": 4,
 "nbformat_minor": 2,
 "cells": [
  {
   "cell_type": "code",
   "execution_count": 7,
   "metadata": {},
   "outputs": [],
   "source": [
    "word = 'makkelerdiju'\n",
    "letters = list(word)\n",
    "\n",
    "def filter_vowel(let):\n",
    "    vowel = ['a', 'e', 'i', 'o', 'u']\n",
    "    if let in vowel:\n",
    "        return True\n",
    "    else : \n",
    "        return False"
   ]
  },
  {
   "cell_type": "code",
   "execution_count": null,
   "metadata": {},
   "outputs": [],
   "source": [
    "filter_vowel(\"b\")"
   ]
  },
  {
   "cell_type": "code",
   "execution_count": 8,
   "metadata": {},
   "outputs": [
    {
     "output_type": "execute_result",
     "data": {
      "text/plain": "['a', 'e', 'e', 'i', 'u']"
     },
     "metadata": {},
     "execution_count": 8
    }
   ],
   "source": [
    "list(filter(filter_vowel, letters))\n"
   ]
  },
  {
   "cell_type": "code",
   "execution_count": 10,
   "metadata": {
    "tags": []
   },
   "outputs": [
    {
     "output_type": "stream",
     "name": "stdout",
     "text": "a\ne\ne\ni\nu\n"
    }
   ],
   "source": [
    "filtered = filter(filter_vowel, letters)\n",
    "for vowel in filtered:\n",
    "    print(vowel)"
   ]
  }
 ]
}