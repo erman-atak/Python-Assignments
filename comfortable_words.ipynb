{
 "metadata": {
  "language_info": {
   "codemirror_mode": {
    "name": "ipython",
    "version": 3
   },
   "file_extension": ".py",
   "mimetype": "text/x-python",
   "name": "python",
   "nbconvert_exporter": "python",
   "pygments_lexer": "ipython3",
   "version": 3
  },
  "orig_nbformat": 2,
  "kernelspec": {
   "name": "python_defaultSpec_1595006710991",
   "display_name": "Python 3.8.3 32-bit"
  }
 },
 "nbformat": 4,
 "nbformat_minor": 2,
 "cells": [
  {
   "cell_type": "code",
   "execution_count": 7,
   "metadata": {
    "tags": []
   },
   "outputs": [
    {
     "output_type": "stream",
     "name": "stdout",
     "text": "True\n"
    }
   ],
   "source": [
    "left = {'q','w', 'e', 'r', 't', 'a', 's', 'd','f','g','z','x','c','v','b'}\n",
    "right = {'u','i','o','p','h','j','k','l','n','m'}\n",
    "\n",
    "word = 'Clarusway'\n",
    "set_word = set(word)\n",
    "set_word\n",
    "\n",
    "bool_left = bool(set_word - left)\n",
    "bool_right = bool(set_word - right)\n",
    "\n",
    "print(bool_left and bool_right)"
   ]
  },
  {
   "cell_type": "code",
   "execution_count": null,
   "metadata": {},
   "outputs": [],
   "source": []
  }
 ]
}