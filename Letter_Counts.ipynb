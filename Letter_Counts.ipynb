{
 "metadata": {
  "language_info": {
   "codemirror_mode": {
    "name": "ipython",
    "version": 3
   },
   "file_extension": ".py",
   "mimetype": "text/x-python",
   "name": "python",
   "nbconvert_exporter": "python",
   "pygments_lexer": "ipython3",
   "version": 3
  },
  "orig_nbformat": 2,
  "kernelspec": {
   "name": "python_defaultSpec_1595767493012",
   "display_name": "Python 3.8.3 32-bit"
  }
 },
 "nbformat": 4,
 "nbformat_minor": 2,
 "cells": [
  {
   "cell_type": "code",
   "execution_count": 7,
   "metadata": {},
   "outputs": [],
   "source": [
    "sentence = \"bir berber, bireberber gel beraber 1'inde is yapalim demis.\""
   ]
  },
  {
   "cell_type": "code",
   "execution_count": 9,
   "metadata": {},
   "outputs": [
    {
     "output_type": "execute_result",
     "data": {
      "text/plain": "{'b': 8,\n 'i': 6,\n 'r': 8,\n ' ': 8,\n 'e': 10,\n ',': 1,\n 'g': 1,\n 'l': 2,\n 'a': 3,\n '1': 1,\n \"'\": 1,\n 'n': 1,\n 'd': 2,\n 's': 2,\n 'y': 1,\n 'p': 1,\n 'm': 2,\n '.': 1}"
     },
     "metadata": {},
     "execution_count": 9
    }
   ],
   "source": [
    "dict_letter = {}\n",
    "\n",
    "for i in sentence:\n",
    "    keys = dict_letter.keys()\n",
    "    if i in keys:\n",
    "        dict_letter[i] += 1\n",
    "    else: \n",
    "        dict_letter[i] = 1\n",
    "\n",
    "dict_letter\n",
    "\n"
   ]
  },
  {
   "cell_type": "code",
   "execution_count": 17,
   "metadata": {},
   "outputs": [
    {
     "output_type": "execute_result",
     "data": {
      "text/plain": "'abcdefghijklmnopqrstuvwxyzABCDEFGHIJKLMNOPQRSTUVWXYZ01234567!\"#$%&\\'()*+,-./:;<=>?@[\\\\]^_`{|}~ '"
     },
     "metadata": {},
     "execution_count": 17
    }
   ],
   "source": [
    "# another method is using string modules\n",
    "import string\n",
    "\n",
    "characters = (string.ascii_letters+string.octdigits+string.punctuation+' ')\n",
    "characters"
   ]
  }
 ]
}