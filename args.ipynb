{
 "metadata": {
  "language_info": {
   "codemirror_mode": {
    "name": "ipython",
    "version": 3
   },
   "file_extension": ".py",
   "mimetype": "text/x-python",
   "name": "python",
   "nbconvert_exporter": "python",
   "pygments_lexer": "ipython3",
   "version": 3
  },
  "orig_nbformat": 2,
  "kernelspec": {
   "name": "python_defaultSpec_1595310273216",
   "display_name": "Python 3.8.3 32-bit"
  }
 },
 "nbformat": 4,
 "nbformat_minor": 2,
 "cells": [
  {
   "cell_type": "code",
   "execution_count": 3,
   "metadata": {
    "tags": []
   },
   "outputs": [
    {
     "output_type": "stream",
     "name": "stdout",
     "text": "even:  [2, 4, 6, 8]\nodd : [1, 3, 5, 7, 9]\n"
    }
   ],
   "source": [
    "def slicer(*a):\n",
    "    even_list = []\n",
    "    odd_list = []\n",
    "    for i in a:\n",
    "        if i%2==0:\n",
    "            even_list.append(i)\n",
    "        else: odd_list.append(i)\n",
    "    print(\"even: \", even_list)\n",
    "    print(\"odd :\", odd_list)\n",
    "\n",
    "slicer(1,2,3,4,5,6,7,8,9)"
   ]
  },
  {
   "cell_type": "code",
   "execution_count": 1,
   "metadata": {
    "tags": []
   },
   "outputs": [
    {
     "output_type": "stream",
     "name": "stdout",
     "text": "even : [2, 4, 6, 8]\nodd : [1, 3, 5, 7, 9]\n"
    }
   ],
   "source": [
    "def slicing(*b):\n",
    "    even = [i for i in b if i%2==0]\n",
    "    odd = [j for j in b if j%2!=0]\n",
    "    print(\"even :\", even)\n",
    "    print(\"odd :\", odd)\n",
    "\n",
    "slicing(1,2,3,4,5,6,7,8,9)"
   ]
  },
  {
   "cell_type": "code",
   "execution_count": 1,
   "metadata": {
    "tags": []
   },
   "outputs": [
    {
     "output_type": "stream",
     "name": "stdout",
     "text": "Here are the names of the brothers :\ntom sue tim\n"
    }
   ],
   "source": [
    "def brothers(bro1, bro2, bro3):\n",
    "    print(\"Here are the names of the brothers :\")\n",
    "    print(bro1, bro2, bro3)\n",
    "\n",
    "family = ['tom', 'sue', 'tim']\n",
    "brothers(*family)"
   ]
  },
  {
   "cell_type": "code",
   "execution_count": 3,
   "metadata": {
    "tags": []
   },
   "outputs": [
    {
     "output_type": "stream",
     "name": "stdout",
     "text": "For me, Bill Gates and Guido van Gates are geniuses\n"
    }
   ],
   "source": [
    "def merger(var1, var2, var3, var4):\n",
    "    print(f\"For me, {var1} {var4} and {var3} {var4} are geniuses.\")\n",
    "\n",
    "genious = (\"Bill\", \"Rossum\", \"Guido van\", \"Gates\")\n",
    "merger(*genious)"
   ]
  },
  {
   "cell_type": "code",
   "execution_count": null,
   "metadata": {},
   "outputs": [],
   "source": [
    "def test(x,y,z):\n",
    "    print(x,y,z)\n",
    "testDict = {'x':1, 'y':2, 'z':3}\n",
    "testList = [10,20,30]\n",
    "\n",
    "test(*testDict)\n",
    "test(*testList)\n",
    "print()\n",
    "test(**testDict)\n",
    "# test(**testList)  errors"
   ]
  }
 ]
}