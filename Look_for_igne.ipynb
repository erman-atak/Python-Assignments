{
 "metadata": {
  "language_info": {
   "codemirror_mode": {
    "name": "ipython",
    "version": 3
   },
   "file_extension": ".py",
   "mimetype": "text/x-python",
   "name": "python",
   "nbconvert_exporter": "python",
   "pygments_lexer": "ipython3",
   "version": 3
  },
  "orig_nbformat": 2,
  "kernelspec": {
   "name": "python_defaultSpec_1595002299582",
   "display_name": "Python 3.8.3 32-bit"
  }
 },
 "nbformat": 4,
 "nbformat_minor": 2,
 "cells": [
  {
   "cell_type": "code",
   "execution_count": 2,
   "metadata": {},
   "outputs": [
    {
     "output_type": "execute_result",
     "data": {
      "text/plain": "4"
     },
     "metadata": {},
     "execution_count": 2
    }
   ],
   "source": [
    "samanlik = ['yumurta', 'saman', 'tirpan', 'tezek', 'igne', 'inek', 'su', 'tas']\n",
    "\n",
    "samanlik.index('igne')"
   ]
  },
  {
   "cell_type": "code",
   "execution_count": 3,
   "metadata": {
    "tags": []
   },
   "outputs": [
    {
     "output_type": "stream",
     "name": "stdout",
     "text": "five\n5\nTrue\n"
    }
   ],
   "source": [
    "V = ('five', 5, True)\n",
    "x, y, z = V\n",
    "print(x,y,z, sep='\\n')"
   ]
  },
  {
   "cell_type": "code",
   "execution_count": 6,
   "metadata": {},
   "outputs": [
    {
     "output_type": "execute_result",
     "data": {
      "text/plain": "[2, 3, 4, 5]"
     },
     "metadata": {},
     "execution_count": 6
    }
   ],
   "source": [
    "(monday, tuesday, wednesday, thursday, friday, saturday, sunday) = tuple(range(1,8))\n",
    "\n",
    "list(range(2,6))"
   ]
  },
  {
   "cell_type": "code",
   "execution_count": 8,
   "metadata": {},
   "outputs": [
    {
     "output_type": "execute_result",
     "data": {
      "text/plain": "[1, 2, 3, 4, '11', '22', 33]"
     },
     "metadata": {},
     "execution_count": 8
    }
   ],
   "source": [
    "[1,2,3,4] + ['11', '22', 33]"
   ]
  },
  {
   "cell_type": "code",
   "execution_count": 10,
   "metadata": {},
   "outputs": [
    {
     "output_type": "execute_result",
     "data": {
      "text/plain": "(1, 2, [1, 3, 5, '1'])"
     },
     "metadata": {},
     "execution_count": 10
    }
   ],
   "source": [
    "tt = (1,2,[1,3,5])\n",
    "tt[2].append('1')\n",
    "tt"
   ]
  },
  {
   "cell_type": "code",
   "execution_count": 12,
   "metadata": {
    "tags": []
   },
   "outputs": [
    {
     "output_type": "stream",
     "name": "stdout",
     "text": "(10, 20)\n"
    }
   ],
   "source": [
    "items = (10, 20)\n",
    "print(items)\n",
    "x, y = (10, 20)"
   ]
  },
  {
   "cell_type": "code",
   "execution_count": 14,
   "metadata": {
    "tags": []
   },
   "outputs": [
    {
     "output_type": "stream",
     "name": "stdout",
     "text": "10 40\n"
    }
   ],
   "source": [
    "a,_,_, b = (10, 20, 30, 40)\n",
    "print(a, b)"
   ]
  },
  {
   "cell_type": "code",
   "execution_count": 21,
   "metadata": {
    "tags": []
   },
   "outputs": [
    {
     "output_type": "stream",
     "name": "stdout",
     "text": "[33, 44, 55, 66, 77, 88, 99]\n10100000000\n"
    }
   ],
   "source": [
    "x,y,*_ = (11,22,33,44,55,66,77,88,99)\n",
    "\n",
    "d,g,*t,s = (11,22,33,44,55,66,77,88,99)\n",
    "\n",
    "print(_)"
   ]
  },
  {
   "cell_type": "code",
   "execution_count": 26,
   "metadata": {
    "tags": []
   },
   "outputs": [
    {
     "output_type": "stream",
     "name": "stdout",
     "text": "10,100,000,000\n"
    }
   ],
   "source": [
    "no1 = 10_000_000_000\n",
    "no2 = 100_000_000\n",
    "adding = no1+no2\n",
    "#print(f\"{adding:,}\")\n",
    "print(\"{:,}\".format(adding))"
   ]
  },
  {
   "cell_type": "code",
   "execution_count": null,
   "metadata": {},
   "outputs": [],
   "source": []
  }
 ]
}