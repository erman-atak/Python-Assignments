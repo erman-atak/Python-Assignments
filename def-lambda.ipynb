{
 "metadata": {
  "language_info": {
   "codemirror_mode": {
    "name": "ipython",
    "version": 3
   },
   "file_extension": ".py",
   "mimetype": "text/x-python",
   "name": "python",
   "nbconvert_exporter": "python",
   "pygments_lexer": "ipython3",
   "version": 3
  },
  "orig_nbformat": 2,
  "kernelspec": {
   "name": "python_defaultSpec_1595403868835",
   "display_name": "Python 3.8.3 32-bit"
  }
 },
 "nbformat": 4,
 "nbformat_minor": 2,
 "cells": [
  {
   "cell_type": "code",
   "execution_count": 5,
   "metadata": {
    "tags": []
   },
   "outputs": [
    {
     "output_type": "stream",
     "name": "stdout",
     "text": "4\n8\n16\n"
    }
   ],
   "source": [
    "def modular_function(n):\n",
    "    return lambda x: x ** n\\\n",
    "\n",
    "power_of_2 = modular_function(2)\n",
    "power_of_3 = modular_function(3)\n",
    "power_of_4 = modular_function(4)    \n",
    "\n",
    "print(power_of_2(2))\n",
    "print(power_of_3(2))\n",
    "print(power_of_4(2))"
   ]
  },
  {
   "cell_type": "code",
   "execution_count": 9,
   "metadata": {
    "tags": []
   },
   "outputs": [
    {
     "output_type": "stream",
     "name": "stdout",
     "text": "alex alex \nclara clara clara \nrafael rafael rafael rafael \n"
    }
   ],
   "source": [
    "def repeater(n):\n",
    "    return lambda x: x*n\n",
    "repeat_2 = repeater(2)\n",
    "repeat_3 = repeater(3)\n",
    "repeat_4 = repeater(4)\n",
    "\n",
    "print(repeat_2('alex '))\n",
    "print(repeat_3('clara '))\n",
    "print(repeat_4('rafael '))"
   ]
  },
  {
   "cell_type": "code",
   "execution_count": 21,
   "metadata": {
    "tags": []
   },
   "outputs": [
    {
     "output_type": "stream",
     "name": "stdout",
     "text": "hello :)\nhello :(\nhello :|\n"
    }
   ],
   "source": [
    "def functioner(emoji):\n",
    "    return lambda x: f\"{x} :{emoji}\"\n",
    "\n",
    "myPrint_smile = functioner(')')\n",
    "myPrint_sad = functioner('(')\n",
    "myPrint_neutral = functioner('|')\n",
    "\n",
    "print(myPrint_smile('hello'))\n",
    "print(myPrint_sad('hello'))\n",
    "print(myPrint_neutral('hello'))\n"
   ]
  },
  {
   "cell_type": "code",
   "execution_count": 40,
   "metadata": {
    "tags": []
   },
   "outputs": [
    {
     "output_type": "stream",
     "name": "stdout",
     "text": "[2, 3, 7, 6, 3, 9, 0]\n"
    },
    {
     "output_type": "execute_result",
     "data": {
      "text/plain": "True"
     },
     "metadata": {},
     "execution_count": 40
    }
   ],
   "source": [
    "def func_generator(function):\n",
    "    return lambda x: function(x) \n",
    "my_print = func_generator(print)\n",
    "my_max = func_generator(max)\n",
    "my_sorted = func_generator(sorted)\n",
    "my_bool = func_generator(bool)\n",
    "\n",
    "numb = [2,3,7,6,3,9,0]\n",
    "\n",
    "my_max(numb)\n",
    "my_print(numb)\n",
    "my_sorted(numb)\n",
    "my_bool(numb)"
   ]
  },
  {
   "cell_type": "code",
   "execution_count": 61,
   "metadata": {
    "tags": []
   },
   "outputs": [
    {
     "output_type": "stream",
     "name": "stdout",
     "text": "2\n"
    }
   ],
   "source": [
    "def equal(a,b,c):\n",
    "    numbers = [a,b,c]\n",
    "    result = numbers.count(max(numbers, key=numbers.count))\n",
    "    return result if result>1 else 0\n",
    "\n",
    "print(equal(6,7,7))"
   ]
  },
  {
   "cell_type": "code",
   "execution_count": 62,
   "metadata": {},
   "outputs": [
    {
     "output_type": "execute_result",
     "data": {
      "text/plain": "2"
     },
     "metadata": {},
     "execution_count": 62
    }
   ],
   "source": [
    "equall = lambda x, y, z: [x,y,z].count(max([x,y,z], key=[x,y,z].count)) if ([x,y,z].count(max([x,y,z], key=[x,y,z].count))) > 0 else 0 \n",
    "\n",
    "equall(6,7,7)"
   ]
  }
 ]
}